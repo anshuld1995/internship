{
 "cells": [
  {
   "cell_type": "code",
   "execution_count": null,
   "id": "1a49775b",
   "metadata": {},
   "outputs": [],
   "source": [
    "                                           python_ worksheet_\n",
    "    \n",
    "    \n",
    "    \n",
    "    Q1-> Which of the following operators is used to calculate remainder in a division?\n",
    "    Ans-> %\n",
    "    \n",
    "    Q2->In python 2//3 is equal to?\n",
    "    Ans->0\n",
    "    \n",
    "    Q3->In python, 6<<2 is equal to?\n",
    "    Ana->24\n",
    "\n",
    "    Q4->In python, 6&2 will give which of the following as output?\n",
    "    Ans->2\n",
    "    \n",
    "    Q5->In python, 6|2 will give which of the following as output?\n",
    "    Ans->6\n",
    "    \n",
    "    Q6->What does the finally keyword denotes in python\n",
    "    Ans->B\n",
    "    \n",
    "    Q7->What does raise keyword is used for in python?\n",
    "    Ans->It is used to raise an exception.\n",
    "    \n",
    "    Q8->Which of the following is a common use case of yield keyword in python?\n",
    "    Ans->in defining an iterator\n",
    "    \n",
    "   -------------------------------------------------------------------------------------------------------------- \n",
    "    Q9 and Q10 have multiple correct answers. Choose all the correct options to answer your question\n",
    "    \n",
    "    Q9->Which of the following are the valid variable names?\n",
    "    Ans->A) _abc \n",
    "         C) abc2\n",
    "        \n",
    "    Q10->Which of the following are the keywords in python?\n",
    "    Ans->A) yield B) raise\n",
    "         C) look-in \n",
    "    \n",
    "    \n",
    "    "
   ]
  },
  {
   "cell_type": "code",
   "execution_count": 1,
   "id": "b1cd6936",
   "metadata": {},
   "outputs": [
    {
     "name": "stdout",
     "output_type": "stream",
     "text": [
      "Enter any integer to find it's factorial: 5\n",
      "The factorial of 5  is: 120\n"
     ]
    }
   ],
   "source": [
    "# (11)  Write a python program to find the factorial of a number.\n",
    "\n",
    "num = int(input(\"Enter any integer to find it's factorial: \"))\n",
    "factorial = 1\n",
    "\n",
    "# Check the negativity of a number\n",
    "if num < 0:\n",
    "    print(\"Negative number. Factorial doesn't exist for negative number.\")\n",
    "elif num == 0:\n",
    "    print(\"The factorial of 0 is: \", factorial)\n",
    "else:\n",
    "    for i in range(1,num+1):\n",
    "        factorial = factorial*i\n",
    "    print(\"The factorial of\", num, \" is:\",factorial)"
   ]
  },
  {
   "cell_type": "code",
   "execution_count": 2,
   "id": "9b8d2443",
   "metadata": {},
   "outputs": [
    {
     "name": "stdout",
     "output_type": "stream",
     "text": [
      "Enter any integer to find whether a number is prime or composite: 9\n",
      "The number 9 is a Composite number\n"
     ]
    }
   ],
   "source": [
    "# (12) Write a python program to find whether a number is prime or composite.\n",
    "\n",
    "\n",
    "number = int(input(\"Enter any integer to find whether a number is prime or composite: \"))\n",
    "flag = False\n",
    "\n",
    "if number > 1:\n",
    "    for i in range(2, number):\n",
    "        if(number % i == 0):\n",
    "            flag = True\n",
    "            break\n",
    "\n",
    "if flag:\n",
    "\n",
    "    print(\"The number\",number,\"is a Composite number\")\n",
    "else:\n",
    "    print(\"The number\",number,\"is a Prime number\")\n"
   ]
  },
  {
   "cell_type": "code",
   "execution_count": 4,
   "id": "391eae48",
   "metadata": {},
   "outputs": [
    {
     "name": "stdout",
     "output_type": "stream",
     "text": [
      "Enter any string to find whether a string is Palindrome or not: india\n",
      "The string india is not a Palindrome\n"
     ]
    }
   ],
   "source": [
    "\n",
    "#13 Write a python program to check whether a given string is palindrome or not.\n",
    "\n",
    "str = input(\"Enter any string to find whether a string is Palindrome or not: \")\n",
    "str = str.casefold()\n",
    "\n",
    "#reverse the string\n",
    "rev_str = reversed(str)\n",
    "\n",
    "#Check\n",
    "if list(str) == list(rev_str):\n",
    "    print(\"The string\",str,\"is a Palindrome\")\n",
    "else:\n",
    "    print(\"The string\",str,\"is not a Palindrome\")\n"
   ]
  },
  {
   "cell_type": "code",
   "execution_count": 5,
   "id": "040254d9",
   "metadata": {},
   "outputs": [
    {
     "name": "stdout",
     "output_type": "stream",
     "text": [
      "enter base :5\n",
      "enter hight :6\n",
      "triangle =  7.810249675906654\n"
     ]
    }
   ],
   "source": [
    "#14 Write a Python program to get the third side of right-angled triangle from two given sides\n",
    "\n",
    "import math \n",
    "x= float(input(\"enter base :\"))\n",
    "y=float(input(\"enter hight :\"))\n",
    "z=90\n",
    "triangle = math.sqrt(x**2 + y**2)\n",
    "print('triangle = ',triangle)"
   ]
  },
  {
   "cell_type": "code",
   "execution_count": 7,
   "id": "962e52e4",
   "metadata": {},
   "outputs": [
    {
     "name": "stdout",
     "output_type": "stream",
     "text": [
      "Enter any string: anshul\n",
      "The frequency of each of the characters present in a given string anshul is:\n",
      " {'a': 1, 'n': 1, 's': 1, 'h': 1, 'u': 1, 'l': 1}\n"
     ]
    }
   ],
   "source": [
    "string = input(\"Enter any string: \")\n",
    "string = string.casefold()\n",
    "frequency_of_characters = {}\n",
    "for i in string:\n",
    "    if i in frequency_of_characters:\n",
    "        frequency_of_characters[i] += 1\n",
    "    else:\n",
    "        frequency_of_characters[i] = 1\n",
    "        \n",
    "print(\"The frequency of each of the characters present in a given string\",string,\"is:\\n\",frequency_of_characters)"
   ]
  },
  {
   "cell_type": "code",
   "execution_count": null,
   "id": "f094f2fa",
   "metadata": {},
   "outputs": [],
   "source": []
  }
 ],
 "metadata": {
  "kernelspec": {
   "display_name": "Python 3 (ipykernel)",
   "language": "python",
   "name": "python3"
  },
  "language_info": {
   "codemirror_mode": {
    "name": "ipython",
    "version": 3
   },
   "file_extension": ".py",
   "mimetype": "text/x-python",
   "name": "python",
   "nbconvert_exporter": "python",
   "pygments_lexer": "ipython3",
   "version": "3.9.7"
  }
 },
 "nbformat": 4,
 "nbformat_minor": 5
}
